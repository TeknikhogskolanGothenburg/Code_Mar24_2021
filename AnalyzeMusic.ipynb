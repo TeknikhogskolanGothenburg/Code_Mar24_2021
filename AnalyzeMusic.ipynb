{
 "cells": [
  {
   "cell_type": "code",
   "execution_count": 1,
   "metadata": {},
   "outputs": [],
   "source": [
    "import pandas as pd\n",
    "\n",
    "raw_df = pd.read_csv('./data/responses.csv')"
   ]
  },
  {
   "cell_type": "code",
   "execution_count": 2,
   "metadata": {},
   "outputs": [
    {
     "data": {
      "text/plain": [
       "Dance                4\n",
       "Folk                 5\n",
       "Country              5\n",
       "Classical music      7\n",
       "Musical              2\n",
       "Pop                  3\n",
       "Rock                 6\n",
       "Metal or Hardrock    3\n",
       "Punk                 8\n",
       "Hiphop, Rap          4\n",
       "Reggae, Ska          7\n",
       "Swing, Jazz          6\n",
       "Rock n roll          7\n",
       "Alternative          7\n",
       "Latino               8\n",
       "Techno, Trance       7\n",
       "Opera                1\n",
       "Gender               6\n",
       "Age                  7\n",
       "Village - town       4\n",
       "Branded clothing     2\n",
       "Happiness in life    4\n",
       "dtype: int64"
      ]
     },
     "execution_count": 2,
     "metadata": {},
     "output_type": "execute_result"
    }
   ],
   "source": [
    "music_columns = list(raw_df.columns[2:19])\n",
    "personal_columns = ['Gender', 'Age', 'Village - town', 'Branded clothing', 'Happiness in life']\n",
    "PERSONAL_SIZE = len(personal_columns)\n",
    "music_df = raw_df.filter(music_columns + personal_columns, axis=1)\n",
    "music_df.isnull().sum()"
   ]
  },
  {
   "cell_type": "code",
   "execution_count": 3,
   "metadata": {},
   "outputs": [],
   "source": [
    "music_df.dropna(inplace=True)"
   ]
  },
  {
   "cell_type": "code",
   "execution_count": 4,
   "metadata": {},
   "outputs": [
    {
     "data": {
      "text/plain": [
       "Dance                0\n",
       "Folk                 0\n",
       "Country              0\n",
       "Classical music      0\n",
       "Musical              0\n",
       "Pop                  0\n",
       "Rock                 0\n",
       "Metal or Hardrock    0\n",
       "Punk                 0\n",
       "Hiphop, Rap          0\n",
       "Reggae, Ska          0\n",
       "Swing, Jazz          0\n",
       "Rock n roll          0\n",
       "Alternative          0\n",
       "Latino               0\n",
       "Techno, Trance       0\n",
       "Opera                0\n",
       "Gender               0\n",
       "Age                  0\n",
       "Village - town       0\n",
       "Branded clothing     0\n",
       "Happiness in life    0\n",
       "dtype: int64"
      ]
     },
     "execution_count": 4,
     "metadata": {},
     "output_type": "execute_result"
    }
   ],
   "source": [
    "music_df.isnull().sum()"
   ]
  },
  {
   "cell_type": "code",
   "execution_count": 5,
   "metadata": {},
   "outputs": [
    {
     "data": {
      "text/plain": [
       "Dance                float64\n",
       "Folk                 float64\n",
       "Country              float64\n",
       "Classical music      float64\n",
       "Musical              float64\n",
       "Pop                  float64\n",
       "Rock                 float64\n",
       "Metal or Hardrock    float64\n",
       "Punk                 float64\n",
       "Hiphop, Rap          float64\n",
       "Reggae, Ska          float64\n",
       "Swing, Jazz          float64\n",
       "Rock n roll          float64\n",
       "Alternative          float64\n",
       "Latino               float64\n",
       "Techno, Trance       float64\n",
       "Opera                float64\n",
       "Gender                object\n",
       "Age                  float64\n",
       "Village - town        object\n",
       "Branded clothing     float64\n",
       "Happiness in life    float64\n",
       "dtype: object"
      ]
     },
     "execution_count": 5,
     "metadata": {},
     "output_type": "execute_result"
    }
   ],
   "source": [
    "music_df.dtypes"
   ]
  },
  {
   "cell_type": "code",
   "execution_count": 6,
   "metadata": {},
   "outputs": [
    {
     "data": {
      "text/plain": [
       "city       648\n",
       "village    270\n",
       "Name: Village - town, dtype: int64"
      ]
     },
     "execution_count": 6,
     "metadata": {},
     "output_type": "execute_result"
    }
   ],
   "source": [
    "pd.value_counts(music_df['Village - town'])"
   ]
  },
  {
   "cell_type": "code",
   "execution_count": 7,
   "metadata": {},
   "outputs": [
    {
     "data": {
      "text/plain": [
       "3.0    256\n",
       "4.0    225\n",
       "1.0    159\n",
       "5.0    142\n",
       "2.0    136\n",
       "Name: Branded clothing, dtype: int64"
      ]
     },
     "execution_count": 7,
     "metadata": {},
     "output_type": "execute_result"
    }
   ],
   "source": [
    "pd.value_counts(music_df['Branded clothing'])"
   ]
  },
  {
   "cell_type": "code",
   "execution_count": 8,
   "metadata": {},
   "outputs": [
    {
     "data": {
      "text/plain": [
       "4.0    468\n",
       "3.0    258\n",
       "5.0    128\n",
       "2.0     54\n",
       "1.0     10\n",
       "Name: Happiness in life, dtype: int64"
      ]
     },
     "execution_count": 8,
     "metadata": {},
     "output_type": "execute_result"
    }
   ],
   "source": [
    "pd.value_counts(music_df['Happiness in life'])"
   ]
  },
  {
   "cell_type": "code",
   "execution_count": 9,
   "metadata": {},
   "outputs": [],
   "source": [
    "music_df['Gender'] = music_df['Gender'].replace(\"female\", 0)\n",
    "music_df['Gender'] = music_df['Gender'].replace(\"male\", 1)\n",
    "music_df['Village - town'] = music_df['Village - town'].replace(\"village\", 0)\n",
    "music_df['Village - town'] = music_df['Village - town'].replace(\"city\", 1)"
   ]
  },
  {
   "cell_type": "code",
   "execution_count": 10,
   "metadata": {},
   "outputs": [],
   "source": [
    "music_df.rename(columns={'Village - town':'City'}, inplace=True)"
   ]
  },
  {
   "cell_type": "code",
   "execution_count": 11,
   "metadata": {},
   "outputs": [
    {
     "data": {
      "text/plain": [
       "Dance                float64\n",
       "Folk                 float64\n",
       "Country              float64\n",
       "Classical music      float64\n",
       "Musical              float64\n",
       "Pop                  float64\n",
       "Rock                 float64\n",
       "Metal or Hardrock    float64\n",
       "Punk                 float64\n",
       "Hiphop, Rap          float64\n",
       "Reggae, Ska          float64\n",
       "Swing, Jazz          float64\n",
       "Rock n roll          float64\n",
       "Alternative          float64\n",
       "Latino               float64\n",
       "Techno, Trance       float64\n",
       "Opera                float64\n",
       "Gender                 int64\n",
       "Age                  float64\n",
       "City                   int64\n",
       "Branded clothing     float64\n",
       "Happiness in life    float64\n",
       "dtype: object"
      ]
     },
     "execution_count": 11,
     "metadata": {},
     "output_type": "execute_result"
    }
   ],
   "source": [
    "music_df.dtypes"
   ]
  },
  {
   "cell_type": "code",
   "execution_count": 12,
   "metadata": {},
   "outputs": [],
   "source": [
    "for i, col in enumerate(music_df):\n",
    "    #use_df[use_df.columns[each]]\n",
    "    music_df[music_df.columns[i]] = music_df[col].astype(int)"
   ]
  },
  {
   "cell_type": "code",
   "execution_count": 13,
   "metadata": {},
   "outputs": [
    {
     "data": {
      "text/plain": [
       "Dance                int32\n",
       "Folk                 int32\n",
       "Country              int32\n",
       "Classical music      int32\n",
       "Musical              int32\n",
       "Pop                  int32\n",
       "Rock                 int32\n",
       "Metal or Hardrock    int32\n",
       "Punk                 int32\n",
       "Hiphop, Rap          int32\n",
       "Reggae, Ska          int32\n",
       "Swing, Jazz          int32\n",
       "Rock n roll          int32\n",
       "Alternative          int32\n",
       "Latino               int32\n",
       "Techno, Trance       int32\n",
       "Opera                int32\n",
       "Gender               int32\n",
       "Age                  int32\n",
       "City                 int32\n",
       "Branded clothing     int32\n",
       "Happiness in life    int32\n",
       "dtype: object"
      ]
     },
     "execution_count": 13,
     "metadata": {},
     "output_type": "execute_result"
    }
   ],
   "source": [
    "music_df.dtypes"
   ]
  },
  {
   "cell_type": "code",
   "execution_count": 14,
   "metadata": {},
   "outputs": [],
   "source": [
    "data = music_df.values.tolist()"
   ]
  },
  {
   "cell_type": "code",
   "execution_count": 15,
   "metadata": {},
   "outputs": [
    {
     "data": {
      "text/plain": [
       "[2, 1, 1, 1, 2, 3, 5, 4, 4, 1, 3, 1, 4, 4, 2, 1, 1, 0, 19, 1, 1, 4]"
      ]
     },
     "execution_count": 15,
     "metadata": {},
     "output_type": "execute_result"
    }
   ],
   "source": [
    "data[1]"
   ]
  },
  {
   "cell_type": "code",
   "execution_count": 16,
   "metadata": {},
   "outputs": [
    {
     "name": "stdout",
     "output_type": "stream",
     "text": [
      "['Dance', 'Folk', 'Country', 'Classical music', 'Musical', 'Pop', 'Rock', 'Metal or Hardrock', 'Punk', 'Hiphop, Rap', 'Reggae, Ska', 'Swing, Jazz', 'Rock n roll', 'Alternative', 'Latino', 'Techno, Trance', 'Opera']\n"
     ]
    }
   ],
   "source": [
    "music_cat = list(music_df.columns[:-PERSONAL_SIZE])\n",
    "print(music_cat)"
   ]
  },
  {
   "cell_type": "code",
   "execution_count": 17,
   "metadata": {},
   "outputs": [],
   "source": [
    "from sklearn.model_selection import train_test_split\n",
    "\n",
    "training_data, test_data = train_test_split(data, test_size=0.33, random_state=25)"
   ]
  },
  {
   "cell_type": "code",
   "execution_count": 18,
   "metadata": {},
   "outputs": [
    {
     "name": "stdout",
     "output_type": "stream",
     "text": [
      "615\n",
      "303\n"
     ]
    }
   ],
   "source": [
    "print(len(training_data))\n",
    "print(len(test_data))"
   ]
  },
  {
   "cell_type": "code",
   "execution_count": 19,
   "metadata": {},
   "outputs": [],
   "source": [
    "def split_list(a_list, index):\n",
    "    return a_list[:index], a_list[index:]"
   ]
  },
  {
   "cell_type": "code",
   "execution_count": 20,
   "metadata": {},
   "outputs": [],
   "source": [
    "def create_y(y):\n",
    "    new_list = []\n",
    "    for values in y:\n",
    "        row = []\n",
    "        for i, value in enumerate(values):\n",
    "            row.append({music_cat[i]: value})\n",
    "        new_list.append(row)\n",
    "\n",
    "    result_list = []\n",
    "    for row in new_list:\n",
    "        winner = None\n",
    "        for col in row:\n",
    "\n",
    "            for k, v in col.items():\n",
    "                if not winner:\n",
    "                    winner = (k, v)\n",
    "                elif winner[1] < v:\n",
    "                    winner = (k, v)\n",
    "        result_list.append(winner[0])    \n",
    "    return result_list"
   ]
  },
  {
   "cell_type": "code",
   "execution_count": 21,
   "metadata": {},
   "outputs": [
    {
     "name": "stdout",
     "output_type": "stream",
     "text": [
      "615\n",
      "615\n",
      "[0, 16, 1, 3, 3]\n",
      "Country\n"
     ]
    }
   ],
   "source": [
    "train_x = [split_list(l, -PERSONAL_SIZE)[1] for l in training_data] \n",
    "train_y = create_y([split_list(l, -PERSONAL_SIZE)[0] for l in training_data])\n",
    "\n",
    "#train_y = [[{music_cat[i]: value}for values in train_y] for i, value in enumerate(values)]\n",
    "print(len(train_x))\n",
    "print(len(train_y))\n",
    "print(train_x[0])\n",
    "print(train_y[0])"
   ]
  },
  {
   "cell_type": "code",
   "execution_count": 22,
   "metadata": {},
   "outputs": [
    {
     "name": "stdout",
     "output_type": "stream",
     "text": [
      "615\n"
     ]
    }
   ],
   "source": [
    "print(len(train_y))"
   ]
  },
  {
   "cell_type": "code",
   "execution_count": 23,
   "metadata": {},
   "outputs": [
    {
     "name": "stdout",
     "output_type": "stream",
     "text": [
      "303\n",
      "303\n",
      "[1, 26, 1, 4, 4]\n",
      "Musical\n"
     ]
    }
   ],
   "source": [
    "test_x = [split_list(l, -PERSONAL_SIZE)[1] for l in test_data] \n",
    "test_y = create_y([split_list(l, -PERSONAL_SIZE)[0] for l in test_data])\n",
    "\n",
    "print(len(test_x))\n",
    "print(len(test_y))\n",
    "print(test_x[0])\n",
    "print(test_y[0])"
   ]
  },
  {
   "cell_type": "code",
   "execution_count": 24,
   "metadata": {},
   "outputs": [
    {
     "data": {
      "text/plain": [
       "SVC(kernel='linear')"
      ]
     },
     "execution_count": 24,
     "metadata": {},
     "output_type": "execute_result"
    }
   ],
   "source": [
    "from sklearn.svm import SVC\n",
    "\n",
    "clf_svm = SVC(kernel='linear')\n",
    "clf_svm.fit(train_x, train_y)"
   ]
  },
  {
   "cell_type": "code",
   "execution_count": 25,
   "metadata": {},
   "outputs": [
    {
     "name": "stdout",
     "output_type": "stream",
     "text": [
      "0.2508250825082508\n"
     ]
    }
   ],
   "source": [
    "print(clf_svm.score(test_x, test_y))"
   ]
  }
 ],
 "metadata": {
  "kernelspec": {
   "display_name": "Python 3",
   "language": "python",
   "name": "python3"
  },
  "language_info": {
   "codemirror_mode": {
    "name": "ipython",
    "version": 3
   },
   "file_extension": ".py",
   "mimetype": "text/x-python",
   "name": "python",
   "nbconvert_exporter": "python",
   "pygments_lexer": "ipython3",
   "version": "3.8.5"
  }
 },
 "nbformat": 4,
 "nbformat_minor": 4
}
